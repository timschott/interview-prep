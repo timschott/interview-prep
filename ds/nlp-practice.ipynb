{
 "cells": [
  {
   "cell_type": "markdown",
   "id": "daffd776",
   "metadata": {},
   "source": [
    "conceptual checklist:\n",
    "* what is stemming?\n",
    "* what is lemmatization?\n",
    "* when would you want to keep stop words?\n",
    "* explain word embeddings.\n",
    "* how do you evaluate an NLP model? \n",
    "    * recall\n",
    "    * precision\n",
    "    * F1\n",
    "    * statistical significance?\n",
    "        * explain particulars\n",
    "* whether to use supervised or unsupervised?\n",
    "    * do you already know you're categories?\n",
    "    * are you familiar with the domain?\n",
    "* why is BERT so good?\n",
    "    * transformers\n",
    "    * attention\n",
    "* how do you reduce dimensionality of textual data?\n",
    "    * PCA\n",
    "    * LDA\n",
    "\n",
    "Contrived NLP example:\n",
    "\n",
    "* read in raw text files \n",
    "    * jane austen's books\n",
    "* tokenize\n",
    "    * words\n",
    "    * sentences\n",
    "* clean\n",
    "    * remove punctuation\n",
    "    * remove numbers\n",
    "    * remove stopwords (from pre-baked list)\n",
    "    * use regex for something\n",
    "* create features\n",
    "    * unigrams\n",
    "    * bigrams\n",
    "    * lexicon-based\n",
    "* pass through classification model\n",
    "* calculating important metrics\n",
    "    * most frequent words\n",
    "    * tf-idf\n",
    "    * most mentioned entities\n",
    "    * simple sentiment analysis"
   ]
  },
  {
   "cell_type": "code",
   "execution_count": null,
   "id": "efc64737",
   "metadata": {},
   "outputs": [],
   "source": []
  }
 ],
 "metadata": {
  "kernelspec": {
   "display_name": "Python [conda env:anlp] *",
   "language": "python",
   "name": "conda-env-anlp-py"
  },
  "language_info": {
   "codemirror_mode": {
    "name": "ipython",
    "version": 3
   },
   "file_extension": ".py",
   "mimetype": "text/x-python",
   "name": "python",
   "nbconvert_exporter": "python",
   "pygments_lexer": "ipython3",
   "version": "3.8.8"
  }
 },
 "nbformat": 4,
 "nbformat_minor": 5
}
