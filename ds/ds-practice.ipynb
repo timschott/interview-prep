{
 "cells": [
  {
   "cell_type": "code",
   "execution_count": 2,
   "id": "fba395f6",
   "metadata": {},
   "outputs": [],
   "source": [
    "import csv, os, re\n",
    "import nltk\n",
    "import math\n",
    "from collections import Counter\n",
    "import random\n",
    "import numpy as np\n",
    "import pandas as pd"
   ]
  },
  {
   "cell_type": "markdown",
   "id": "29c8f8cc",
   "metadata": {},
   "source": [
    "First, let's list we accomplished in the R file (roughly)\n",
    "\n",
    "- load bike data, air quality and mt cars as a df\n",
    "- explore data\n",
    "    - dimensions\n",
    "    - column names\n",
    "    - nas per column\n",
    "- cleaning data\n",
    "    - look up python and checking for NA.s\n",
    "    - count the number of NA.s per column in Air Quality\n",
    "    - create a column in air quality that replaces NA ozone vals w/ mean of ozone vals\n",
    "    - create a column that is 5* the temperature column, taking NA's into considerations\n",
    "    - make an arbitrary \"distance\" column in bike data and standardize it\n",
    "    - rename the distance column to be \"standardized_dist\"\n",
    "- attach a new column called \"ride_cost\" (random # bt 0 and 10) (at the end)\n",
    "- attach an arbitrary \"ID\" column (at the beginning)\n",
    "- swap the position of 2 columns\n",
    "- inspect date columns\n",
    "    - potentially convert\n",
    "    - (look up best practice)\n",
    "    - find the difference in days and then in minutes between 2 arbitrary dates\n",
    "- filtering data\n",
    "    - remove rows where ride < 5.00 and Member type is casual\n",
    "    - only give me back the start and stop stations\n",
    "- subsetting data\n",
    "    - split into two halves, along the rows\n",
    "    - rejoin the two halves, row wise (sql union)\n",
    "    - join the two halves, column wise (sql join)\n",
    "- sorting the data\n",
    "    - sort from most expensive ride_cost to least\n",
    "    - sort by date taken (descending) and alp. name of station of origin (a-z)\n",
    "- aggregations\n",
    "    - count the number of unique station destinations\n",
    "    - count the number of rides that were `4.00`\n",
    "    - average ride cost\n",
    "    - average ride cost per end_station, sorted highest cost to lowest\n",
    "    - top 5 destinations per day\n",
    "- correlation \n",
    "    - for all possible combos\n",
    "    - bt wt and mpg\n",
    "    - return all pairings where x and y have cor of >= .8\n",
    "- 5 number summary\n",
    "    - for mpg\n",
    "    - for ride cost (bikes)\n",
    "- simple scatter plot for wt and mpg\n",
    "- regressions\n",
    "    - linear bt wt and mpg\n",
    "    - look up logistic regression\n",
    "- simple string replacement\n",
    "    - remove all numbers from every element in a list of number-strings like 12345tim13434, 2034983tim0a89\n",
    "- simple function\n",
    "    - write a function that outputs the number of unique values in every column of a data frame"
   ]
  },
  {
   "cell_type": "code",
   "execution_count": 17,
   "id": "2a14daa5",
   "metadata": {},
   "outputs": [],
   "source": [
    "sep = \"================================\""
   ]
  },
  {
   "cell_type": "code",
   "execution_count": 18,
   "id": "e3ba879c",
   "metadata": {},
   "outputs": [
    {
     "name": "stdout",
     "output_type": "stream",
     "text": [
      "name             IBM\n",
      "date      2010-09-08\n",
      "shares           100\n",
      "price           10.2\n",
      "dtype: object\n"
     ]
    }
   ],
   "source": [
    "# series basic\n",
    "d = {'name' : 'IBM', 'date' : '2010-09-08', 'shares' : 100, 'price' : 10.2}\n",
    "ds = pd.Series(d)\n",
    "\n",
    "print(ds[0])"
   ]
  },
  {
   "cell_type": "code",
   "execution_count": 21,
   "id": "cbdc3b6b",
   "metadata": {},
   "outputs": [
    {
     "name": "stdout",
     "output_type": "stream",
     "text": [
      "  name  shares\n",
      "0   AA      80\n",
      "1  IBM      90\n",
      "================================\n",
      "AA\n",
      "================================\n",
      "name      AA\n",
      "shares    80\n",
      "Name: 0, dtype: object\n",
      "================================\n",
      "0     AA\n",
      "1    IBM\n",
      "Name: name, dtype: object\n"
     ]
    }
   ],
   "source": [
    "# df basic \n",
    "e = pd.DataFrame({'name': ['AA', 'IBM'], 'shares': [80, 90]})\n",
    "\n",
    "print(e)\n",
    "print(sep)\n",
    "print(e['name'][0])\n",
    "print(sep)\n",
    "print(e.loc[0])\n",
    "print(sep)\n",
    "print(e.loc[:, 'name'])"
   ]
  },
  {
   "cell_type": "code",
   "execution_count": 28,
   "id": "c0a8013d",
   "metadata": {},
   "outputs": [
    {
     "name": "stdout",
     "output_type": "stream",
     "text": [
      "                 mnm   mpg  cyl   disp   hp  drat     wt   qsec  vs  am  gear  \\\n",
      "0          Mazda RX4  21.0    6  160.0  110  3.90  2.620  16.46   0   1     4   \n",
      "1      Mazda RX4 Wag  21.0    6  160.0  110  3.90  2.875  17.02   0   1     4   \n",
      "2         Datsun 710  22.8    4  108.0   93  3.85  2.320  18.61   1   1     4   \n",
      "3     Hornet 4 Drive  21.4    6  258.0  110  3.08  3.215  19.44   1   0     3   \n",
      "4  Hornet Sportabout  18.7    8  360.0  175  3.15  3.440  17.02   0   0     3   \n",
      "\n",
      "   carb  \n",
      "0     4  \n",
      "1     4  \n",
      "2     1  \n",
      "3     1  \n",
      "4     2  \n"
     ]
    }
   ],
   "source": [
    "# read file\n",
    "\n",
    "mtcars = pd.read_csv('data/mtcars.csv', index_col = None)\n",
    "\n",
    "# rename that first column.\n",
    "mtcars.rename(columns = {'Unnamed: 0': 'mnm'}, inplace = True)\n",
    "\n",
    "print(mtcars.head())\n",
    "\n"
   ]
  }
 ],
 "metadata": {
  "kernelspec": {
   "display_name": "Python [conda env:anlp] *",
   "language": "python",
   "name": "conda-env-anlp-py"
  },
  "language_info": {
   "codemirror_mode": {
    "name": "ipython",
    "version": 3
   },
   "file_extension": ".py",
   "mimetype": "text/x-python",
   "name": "python",
   "nbconvert_exporter": "python",
   "pygments_lexer": "ipython3",
   "version": "3.8.8"
  }
 },
 "nbformat": 4,
 "nbformat_minor": 5
}
