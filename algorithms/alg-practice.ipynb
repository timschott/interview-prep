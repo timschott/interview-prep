{
 "cells": [
  {
   "cell_type": "code",
   "execution_count": 5,
   "id": "dd2ebc96",
   "metadata": {},
   "outputs": [],
   "source": [
    "from collections import deque"
   ]
  },
  {
   "cell_type": "code",
   "execution_count": 6,
   "id": "a5abf1d2",
   "metadata": {},
   "outputs": [
    {
     "data": {
      "text/plain": [
       "deque([])"
      ]
     },
     "execution_count": 6,
     "metadata": {},
     "output_type": "execute_result"
    }
   ],
   "source": [
    "deque()"
   ]
  },
  {
   "cell_type": "code",
   "execution_count": 9,
   "id": "20a4546a",
   "metadata": {},
   "outputs": [],
   "source": [
    "d = deque(['a','b','c'])"
   ]
  },
  {
   "cell_type": "code",
   "execution_count": 12,
   "id": "ecbd4df6",
   "metadata": {},
   "outputs": [
    {
     "data": {
      "text/plain": [
       "'a'"
      ]
     },
     "execution_count": 12,
     "metadata": {},
     "output_type": "execute_result"
    }
   ],
   "source": [
    "d.popleft()"
   ]
  },
  {
   "cell_type": "code",
   "execution_count": 14,
   "id": "c94199f4",
   "metadata": {},
   "outputs": [],
   "source": [
    "d.appendleft(\"z\")"
   ]
  },
  {
   "cell_type": "code",
   "execution_count": 15,
   "id": "5d30b803",
   "metadata": {},
   "outputs": [
    {
     "data": {
      "text/plain": [
       "deque(['z', 'b', 'c'])"
      ]
     },
     "execution_count": 15,
     "metadata": {},
     "output_type": "execute_result"
    }
   ],
   "source": [
    "d"
   ]
  },
  {
   "cell_type": "code",
   "execution_count": 17,
   "id": "a1b83d92",
   "metadata": {},
   "outputs": [
    {
     "data": {
      "text/plain": [
       "'z'"
      ]
     },
     "execution_count": 17,
     "metadata": {},
     "output_type": "execute_result"
    }
   ],
   "source": [
    "d.popleft()"
   ]
  },
  {
   "cell_type": "code",
   "execution_count": 18,
   "id": "c3d4e27c",
   "metadata": {},
   "outputs": [
    {
     "data": {
      "text/plain": [
       "deque(['b', 'c'])"
      ]
     },
     "execution_count": 18,
     "metadata": {},
     "output_type": "execute_result"
    }
   ],
   "source": [
    "d"
   ]
  },
  {
   "cell_type": "code",
   "execution_count": 19,
   "id": "8bc9e322",
   "metadata": {},
   "outputs": [],
   "source": [
    "d.appendleft(\"webpage\")"
   ]
  },
  {
   "cell_type": "code",
   "execution_count": 20,
   "id": "212a7cb7",
   "metadata": {},
   "outputs": [
    {
     "data": {
      "text/plain": [
       "'webpage'"
      ]
     },
     "execution_count": 20,
     "metadata": {},
     "output_type": "execute_result"
    }
   ],
   "source": [
    "d.popleft()"
   ]
  },
  {
   "cell_type": "code",
   "execution_count": 29,
   "id": "637489c4",
   "metadata": {},
   "outputs": [],
   "source": [
    "def timbo_bfs(root = None):\n",
    "    \n",
    "    if root is None:\n",
    "        return\n",
    "    \n",
    "    queue = [root]\n",
    "    preserve = []\n",
    "    while len(root > 0):\n",
    "        cur_node = queue.pop(0)\n",
    "        preserve.append(cur_node)\n",
    "        \n",
    "        if cur_node.left:\n",
    "            queue.append(cur_node.left)\n",
    "        if cur_node.right:\n",
    "            queue.append(cur_node.right)\n",
    "    \n",
    "    return preserve"
   ]
  },
  {
   "cell_type": "code",
   "execution_count": 51,
   "id": "7f13eae2",
   "metadata": {},
   "outputs": [],
   "source": [
    "def remove_duplicates(nums):\n",
    "    \n",
    "    if not nums:\n",
    "        return\n",
    "\n",
    "    if len(nums) == 1:\n",
    "        return 1\n",
    "\n",
    "    current = 0 \n",
    "    \n",
    "    while current < len(nums) - 1:\n",
    "        if nums[current] == nums[current + 1]:\n",
    "            nums.remove(nums[current])\n",
    "        else:\n",
    "            current += 1\n",
    "\n",
    "    return len(nums), nums"
   ]
  },
  {
   "cell_type": "code",
   "execution_count": 52,
   "id": "2f6e0dd7",
   "metadata": {},
   "outputs": [
    {
     "data": {
      "text/plain": [
       "(2, [1, 2])"
      ]
     },
     "execution_count": 52,
     "metadata": {},
     "output_type": "execute_result"
    }
   ],
   "source": [
    "remove_duplicates([1,2,2])"
   ]
  },
  {
   "cell_type": "code",
   "execution_count": 149,
   "id": "70ddec3c",
   "metadata": {},
   "outputs": [],
   "source": [
    "def roman(s):\n",
    "    \n",
    "    if not s:\n",
    "        return\n",
    "    \n",
    "    lookup = {\n",
    "         \"I\": 1,\n",
    "         \"V\": 5,\n",
    "         \"X\": 10,\n",
    "         \"L\": 50,\n",
    "         \"C\": 100,\n",
    "         \"D\": 500,\n",
    "         \"M\": 1000}\n",
    "    \n",
    "    penalties = {\n",
    "        \"IV\": 2,\n",
    "        \"IX\": 2,\n",
    "        \"XL\": 20,\n",
    "        \"XC\": 20,\n",
    "        \"CD\": 200,\n",
    "        \"CM\": 200\n",
    "    }\n",
    "    \n",
    "    current = 0\n",
    "    total = 0\n",
    "\n",
    "    while current < len(s):\n",
    "        print(s[current: current+2])\n",
    "        if (current < len(s) - 1):\n",
    "            if(s[current: current + 2] in penalties):\n",
    "                total -= penalties[s[current: current + 2]]\n",
    "        total += lookup[s[current]]\n",
    "        current += 1\n",
    "    \n",
    "    return total"
   ]
  },
  {
   "cell_type": "code",
   "execution_count": 151,
   "id": "ed59a1e3",
   "metadata": {},
   "outputs": [
    {
     "name": "stdout",
     "output_type": "stream",
     "text": [
      "XI\n",
      "IV\n",
      "V\n"
     ]
    },
    {
     "data": {
      "text/plain": [
       "14"
      ]
     },
     "execution_count": 151,
     "metadata": {},
     "output_type": "execute_result"
    }
   ],
   "source": [
    "roman(\"XIV\")"
   ]
  },
  {
   "cell_type": "code",
   "execution_count": 153,
   "id": "09812d2d",
   "metadata": {},
   "outputs": [],
   "source": [
    "l = [1,2,3,4,5]"
   ]
  },
  {
   "cell_type": "code",
   "execution_count": 158,
   "id": "300d16f8",
   "metadata": {},
   "outputs": [
    {
     "data": {
      "text/plain": [
       "[1, 2, 3, 4, 5]"
      ]
     },
     "execution_count": 158,
     "metadata": {},
     "output_type": "execute_result"
    }
   ],
   "source": [
    "l[::1]"
   ]
  },
  {
   "cell_type": "code",
   "execution_count": 274,
   "id": "d3c251ed",
   "metadata": {},
   "outputs": [],
   "source": [
    "def longest_common_prefix(strs):\n",
    "    \n",
    "    if not strs:\n",
    "        return\n",
    "    \n",
    "    if len(strs) == 1 or len(set(strs)):\n",
    "        return strs[0]\n",
    "    \n",
    "    # what's the shortest word in this list\n",
    "    small = min(strs, key=len)\n",
    "\n",
    "    prefixes = []\n",
    "    for word in strs:\n",
    "        if word == small:\n",
    "            continue\n",
    "        prefix = \"\" \n",
    "        for index in (range(len(word))):\n",
    "            if index < len(small) and word[index] == small[index]:\n",
    "                prefix += (word[index])\n",
    "            else:\n",
    "                break\n",
    "        prefixes.append(prefix)\n",
    "    \n",
    "    return min(prefixes, key = len) if prefixes else \"\""
   ]
  },
  {
   "cell_type": "code",
   "execution_count": 273,
   "id": "d14fbef4",
   "metadata": {},
   "outputs": [
    {
     "data": {
      "text/plain": [
       "'c'"
      ]
     },
     "execution_count": 273,
     "metadata": {},
     "output_type": "execute_result"
    }
   ],
   "source": [
    "longest_common_prefix([\"cir\",\"car\"])"
   ]
  },
  {
   "cell_type": "code",
   "execution_count": 210,
   "id": "c9968126",
   "metadata": {},
   "outputs": [
    {
     "data": {
      "text/plain": [
       "True"
      ]
     },
     "execution_count": 210,
     "metadata": {},
     "output_type": "execute_result"
    }
   ],
   "source": [
    "\"test\" in \"testy\""
   ]
  },
  {
   "cell_type": "code",
   "execution_count": 212,
   "id": "1573d9d3",
   "metadata": {},
   "outputs": [
    {
     "data": {
      "text/plain": [
       "False"
      ]
     },
     "execution_count": 212,
     "metadata": {},
     "output_type": "execute_result"
    }
   ],
   "source": [
    "list(\"test\") in list(\"testy\")"
   ]
  },
  {
   "cell_type": "code",
   "execution_count": 228,
   "id": "fea34403",
   "metadata": {},
   "outputs": [],
   "source": [
    "l1 = [\"test\", \"testy\"]"
   ]
  },
  {
   "cell_type": "code",
   "execution_count": 229,
   "id": "29f27a28",
   "metadata": {},
   "outputs": [],
   "source": [
    "l2 = list(\"t\")"
   ]
  },
  {
   "cell_type": "code",
   "execution_count": 240,
   "id": "ac4a2912",
   "metadata": {},
   "outputs": [
    {
     "data": {
      "text/plain": [
       "'testy'"
      ]
     },
     "execution_count": 240,
     "metadata": {},
     "output_type": "execute_result"
    }
   ],
   "source": [
    "\"testy\""
   ]
  },
  {
   "cell_type": "code",
   "execution_count": 289,
   "id": "6155bb46",
   "metadata": {},
   "outputs": [],
   "source": [
    "def isPalindrome(my_string):\n",
    "    \n",
    "    if not my_string:\n",
    "        return False\n",
    "    \n",
    "    my_string = my_string.lower()\n",
    "    \n",
    "    punc = ',.\\?!-;:'\n",
    "    my_string = ''.join([c for c in my_string if c != \" \" and c not in punc])\n",
    "    \n",
    "    if not my_string:\n",
    "        return False\n",
    "    \n",
    "    return my_string[::-1] == my_string"
   ]
  },
  {
   "cell_type": "code",
   "execution_count": 290,
   "id": "04a1dc97",
   "metadata": {},
   "outputs": [
    {
     "data": {
      "text/plain": [
       "False"
      ]
     },
     "execution_count": 290,
     "metadata": {},
     "output_type": "execute_result"
    }
   ],
   "source": [
    "isPalindrome(\",\")"
   ]
  },
  {
   "cell_type": "code",
   "execution_count": 12,
   "id": "563dc1a8",
   "metadata": {},
   "outputs": [],
   "source": [
    "def biggest_area(height):\n",
    "    \n",
    "    if not height:\n",
    "        return 0\n",
    "    if len(height) == 1:\n",
    "        return numbers[0]\n",
    "    \n",
    "    largest = 0\n",
    "    for i in range(len(height)):\n",
    "        window = 1\n",
    "        while i + window < len(height):\n",
    "            # step 1: \"normalize height metric\" by getting min of current vs. inspect\n",
    "            h = min(height[i], height[i + window])\n",
    "            # step 2: calculate area - which is height * width where width = window size\n",
    "            area = h * window\n",
    "            # step 3: set this to largest if it's bigger!\n",
    "            largest = max(largest, area)\n",
    "            # step 4: keep the party going. move window over. \n",
    "            # print(f'{numbers[i]}, {numbers[i + window]}')\n",
    "            window += 1\n",
    "    \n",
    "    return largest\n",
    "        "
   ]
  },
  {
   "cell_type": "code",
   "execution_count": 15,
   "id": "bab75ab2",
   "metadata": {},
   "outputs": [
    {
     "data": {
      "text/plain": [
       "2"
      ]
     },
     "execution_count": 15,
     "metadata": {},
     "output_type": "execute_result"
    }
   ],
   "source": [
    "biggest_area([1,2,1])"
   ]
  },
  {
   "cell_type": "code",
   "execution_count": 1,
   "id": "4adbdda0",
   "metadata": {},
   "outputs": [],
   "source": [
    "my_list = [1,2,3,4,5]"
   ]
  },
  {
   "cell_type": "code",
   "execution_count": 2,
   "id": "49d55518",
   "metadata": {},
   "outputs": [],
   "source": [
    "def test_func(a_list):\n",
    "    \n",
    "    a_list = [num * 2 for num in a_list]\n",
    "    return a_list"
   ]
  },
  {
   "cell_type": "code",
   "execution_count": 4,
   "id": "2fbb8d8e",
   "metadata": {},
   "outputs": [
    {
     "data": {
      "text/plain": [
       "[2, 4, 6, 8, 10]"
      ]
     },
     "execution_count": 4,
     "metadata": {},
     "output_type": "execute_result"
    }
   ],
   "source": [
    "test_func(my_list)"
   ]
  },
  {
   "cell_type": "code",
   "execution_count": 5,
   "id": "0b43ef39",
   "metadata": {},
   "outputs": [
    {
     "data": {
      "text/plain": [
       "[1, 2, 3, 4, 5]"
      ]
     },
     "execution_count": 5,
     "metadata": {},
     "output_type": "execute_result"
    }
   ],
   "source": [
    "my_list # note how it has note actually been updated."
   ]
  },
  {
   "cell_type": "code",
   "execution_count": 9,
   "id": "bc1b2789",
   "metadata": {},
   "outputs": [],
   "source": [
    "def test_func_touching_elements(a_list):\n",
    "    a_list[:] = [num * 2 for num in a_list]\n",
    "    return a_list"
   ]
  },
  {
   "cell_type": "code",
   "execution_count": 10,
   "id": "ac68cd5d",
   "metadata": {},
   "outputs": [
    {
     "data": {
      "text/plain": [
       "[2, 4, 6, 8, 10]"
      ]
     },
     "execution_count": 10,
     "metadata": {},
     "output_type": "execute_result"
    }
   ],
   "source": [
    "test_func_touching_elements(my_list)"
   ]
  },
  {
   "cell_type": "code",
   "execution_count": 12,
   "id": "b9517f87",
   "metadata": {},
   "outputs": [
    {
     "data": {
      "text/plain": [
       "[2, 4, 6, 8, 10]"
      ]
     },
     "execution_count": 12,
     "metadata": {},
     "output_type": "execute_result"
    }
   ],
   "source": [
    "my_list # now it has been edited"
   ]
  },
  {
   "cell_type": "code",
   "execution_count": 38,
   "id": "8bc16ca4",
   "metadata": {},
   "outputs": [],
   "source": [
    "class Person:\n",
    "    \n",
    "    species = 'Human' # shared by all Person objects\n",
    "    \n",
    "    def __init__(self, name, age):\n",
    "        self.name = name\n",
    "        self.age = age\n",
    "    \n",
    "    def f(self):\n",
    "        return 'hello world'"
   ]
  },
  {
   "cell_type": "code",
   "execution_count": 39,
   "id": "96753711",
   "metadata": {},
   "outputs": [],
   "source": [
    "x = Person(\"timothy\", 12)"
   ]
  },
  {
   "cell_type": "code",
   "execution_count": 34,
   "id": "c71bc69a",
   "metadata": {},
   "outputs": [
    {
     "data": {
      "text/plain": [
       "<__main__.Person at 0x10ad37e80>"
      ]
     },
     "execution_count": 34,
     "metadata": {},
     "output_type": "execute_result"
    }
   ],
   "source": [
    "x"
   ]
  },
  {
   "cell_type": "code",
   "execution_count": 35,
   "id": "f752a41e",
   "metadata": {},
   "outputs": [
    {
     "data": {
      "text/plain": [
       "'hello world'"
      ]
     },
     "execution_count": 35,
     "metadata": {},
     "output_type": "execute_result"
    }
   ],
   "source": [
    "x.f()"
   ]
  },
  {
   "cell_type": "code",
   "execution_count": 40,
   "id": "4f031c13",
   "metadata": {},
   "outputs": [
    {
     "data": {
      "text/plain": [
       "'Human'"
      ]
     },
     "execution_count": 40,
     "metadata": {},
     "output_type": "execute_result"
    }
   ],
   "source": [
    "x.species"
   ]
  },
  {
   "cell_type": "code",
   "execution_count": null,
   "id": "1c8c64e8",
   "metadata": {},
   "outputs": [],
   "source": []
  }
 ],
 "metadata": {
  "kernelspec": {
   "display_name": "Python 3",
   "language": "python",
   "name": "python3"
  },
  "language_info": {
   "codemirror_mode": {
    "name": "ipython",
    "version": 3
   },
   "file_extension": ".py",
   "mimetype": "text/x-python",
   "name": "python",
   "nbconvert_exporter": "python",
   "pygments_lexer": "ipython3",
   "version": "3.8.8"
  }
 },
 "nbformat": 4,
 "nbformat_minor": 5
}
