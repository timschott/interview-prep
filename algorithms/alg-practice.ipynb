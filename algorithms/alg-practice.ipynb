{
 "cells": [
  {
   "cell_type": "code",
   "execution_count": 82,
   "id": "dd2ebc96",
   "metadata": {},
   "outputs": [],
   "source": [
    "from collections import deque"
   ]
  },
  {
   "cell_type": "code",
   "execution_count": 6,
   "id": "a5abf1d2",
   "metadata": {},
   "outputs": [
    {
     "data": {
      "text/plain": [
       "deque([])"
      ]
     },
     "execution_count": 6,
     "metadata": {},
     "output_type": "execute_result"
    }
   ],
   "source": [
    "deque()"
   ]
  },
  {
   "cell_type": "code",
   "execution_count": 9,
   "id": "20a4546a",
   "metadata": {},
   "outputs": [],
   "source": [
    "d = deque(['a','b','c'])"
   ]
  },
  {
   "cell_type": "code",
   "execution_count": 12,
   "id": "ecbd4df6",
   "metadata": {},
   "outputs": [
    {
     "data": {
      "text/plain": [
       "'a'"
      ]
     },
     "execution_count": 12,
     "metadata": {},
     "output_type": "execute_result"
    }
   ],
   "source": [
    "d.popleft()"
   ]
  },
  {
   "cell_type": "code",
   "execution_count": 14,
   "id": "c94199f4",
   "metadata": {},
   "outputs": [],
   "source": [
    "d.appendleft(\"z\")"
   ]
  },
  {
   "cell_type": "code",
   "execution_count": 15,
   "id": "5d30b803",
   "metadata": {},
   "outputs": [
    {
     "data": {
      "text/plain": [
       "deque(['z', 'b', 'c'])"
      ]
     },
     "execution_count": 15,
     "metadata": {},
     "output_type": "execute_result"
    }
   ],
   "source": [
    "d"
   ]
  },
  {
   "cell_type": "code",
   "execution_count": 17,
   "id": "a1b83d92",
   "metadata": {},
   "outputs": [
    {
     "data": {
      "text/plain": [
       "'z'"
      ]
     },
     "execution_count": 17,
     "metadata": {},
     "output_type": "execute_result"
    }
   ],
   "source": [
    "d.popleft()"
   ]
  },
  {
   "cell_type": "code",
   "execution_count": 18,
   "id": "c3d4e27c",
   "metadata": {},
   "outputs": [
    {
     "data": {
      "text/plain": [
       "deque(['b', 'c'])"
      ]
     },
     "execution_count": 18,
     "metadata": {},
     "output_type": "execute_result"
    }
   ],
   "source": [
    "d"
   ]
  },
  {
   "cell_type": "code",
   "execution_count": 19,
   "id": "8bc9e322",
   "metadata": {},
   "outputs": [],
   "source": [
    "d.appendleft(\"webpage\")"
   ]
  },
  {
   "cell_type": "code",
   "execution_count": 20,
   "id": "212a7cb7",
   "metadata": {},
   "outputs": [
    {
     "data": {
      "text/plain": [
       "'webpage'"
      ]
     },
     "execution_count": 20,
     "metadata": {},
     "output_type": "execute_result"
    }
   ],
   "source": [
    "d.popleft()"
   ]
  },
  {
   "cell_type": "code",
   "execution_count": 29,
   "id": "637489c4",
   "metadata": {},
   "outputs": [],
   "source": [
    "def timbo_bfs(root = None):\n",
    "    \n",
    "    if root is None:\n",
    "        return\n",
    "    \n",
    "    queue = [root]\n",
    "    preserve = []\n",
    "    while len(root > 0):\n",
    "        cur_node = queue.pop(0)\n",
    "        preserve.append(cur_node)\n",
    "        \n",
    "        if cur_node.left:\n",
    "            queue.append(cur_node.left)\n",
    "        if cur_node.right:\n",
    "            queue.append(cur_node.right)\n",
    "    \n",
    "    return preserve"
   ]
  },
  {
   "cell_type": "code",
   "execution_count": 51,
   "id": "7f13eae2",
   "metadata": {},
   "outputs": [],
   "source": [
    "def remove_duplicates(nums):\n",
    "    \n",
    "    if not nums:\n",
    "        return\n",
    "\n",
    "    if len(nums) == 1:\n",
    "        return 1\n",
    "\n",
    "    current = 0 \n",
    "    \n",
    "    while current < len(nums) - 1:\n",
    "        if nums[current] == nums[current + 1]:\n",
    "            nums.remove(nums[current])\n",
    "        else:\n",
    "            current += 1\n",
    "\n",
    "    return len(nums), nums"
   ]
  },
  {
   "cell_type": "code",
   "execution_count": 52,
   "id": "2f6e0dd7",
   "metadata": {},
   "outputs": [
    {
     "data": {
      "text/plain": [
       "(2, [1, 2])"
      ]
     },
     "execution_count": 52,
     "metadata": {},
     "output_type": "execute_result"
    }
   ],
   "source": [
    "remove_duplicates([1,2,2])"
   ]
  },
  {
   "cell_type": "code",
   "execution_count": 149,
   "id": "70ddec3c",
   "metadata": {},
   "outputs": [],
   "source": [
    "def roman(s):\n",
    "    \n",
    "    if not s:\n",
    "        return\n",
    "    \n",
    "    lookup = {\n",
    "         \"I\": 1,\n",
    "         \"V\": 5,\n",
    "         \"X\": 10,\n",
    "         \"L\": 50,\n",
    "         \"C\": 100,\n",
    "         \"D\": 500,\n",
    "         \"M\": 1000}\n",
    "    \n",
    "    penalties = {\n",
    "        \"IV\": 2,\n",
    "        \"IX\": 2,\n",
    "        \"XL\": 20,\n",
    "        \"XC\": 20,\n",
    "        \"CD\": 200,\n",
    "        \"CM\": 200\n",
    "    }\n",
    "    \n",
    "    current = 0\n",
    "    total = 0\n",
    "\n",
    "    while current < len(s):\n",
    "        print(s[current: current+2])\n",
    "        if (current < len(s) - 1):\n",
    "            if(s[current: current + 2] in penalties):\n",
    "                total -= penalties[s[current: current + 2]]\n",
    "        total += lookup[s[current]]\n",
    "        current += 1\n",
    "    \n",
    "    return total"
   ]
  },
  {
   "cell_type": "code",
   "execution_count": 151,
   "id": "ed59a1e3",
   "metadata": {},
   "outputs": [
    {
     "name": "stdout",
     "output_type": "stream",
     "text": [
      "XI\n",
      "IV\n",
      "V\n"
     ]
    },
    {
     "data": {
      "text/plain": [
       "14"
      ]
     },
     "execution_count": 151,
     "metadata": {},
     "output_type": "execute_result"
    }
   ],
   "source": [
    "roman(\"XIV\")"
   ]
  },
  {
   "cell_type": "code",
   "execution_count": 153,
   "id": "09812d2d",
   "metadata": {},
   "outputs": [],
   "source": [
    "l = [1,2,3,4,5]"
   ]
  },
  {
   "cell_type": "code",
   "execution_count": 158,
   "id": "300d16f8",
   "metadata": {},
   "outputs": [
    {
     "data": {
      "text/plain": [
       "[1, 2, 3, 4, 5]"
      ]
     },
     "execution_count": 158,
     "metadata": {},
     "output_type": "execute_result"
    }
   ],
   "source": [
    "l[::1]"
   ]
  },
  {
   "cell_type": "code",
   "execution_count": 274,
   "id": "d3c251ed",
   "metadata": {},
   "outputs": [],
   "source": [
    "def longest_common_prefix(strs):\n",
    "    \n",
    "    if not strs:\n",
    "        return\n",
    "    \n",
    "    if len(strs) == 1 or len(set(strs)):\n",
    "        return strs[0]\n",
    "    \n",
    "    # what's the shortest word in this list\n",
    "    small = min(strs, key=len)\n",
    "\n",
    "    prefixes = []\n",
    "    for word in strs:\n",
    "        if word == small:\n",
    "            continue\n",
    "        prefix = \"\" \n",
    "        for index in (range(len(word))):\n",
    "            if index < len(small) and word[index] == small[index]:\n",
    "                prefix += (word[index])\n",
    "            else:\n",
    "                break\n",
    "        prefixes.append(prefix)\n",
    "    \n",
    "    return min(prefixes, key = len) if prefixes else \"\""
   ]
  },
  {
   "cell_type": "code",
   "execution_count": 273,
   "id": "d14fbef4",
   "metadata": {},
   "outputs": [
    {
     "data": {
      "text/plain": [
       "'c'"
      ]
     },
     "execution_count": 273,
     "metadata": {},
     "output_type": "execute_result"
    }
   ],
   "source": [
    "longest_common_prefix([\"cir\",\"car\"])"
   ]
  },
  {
   "cell_type": "code",
   "execution_count": 210,
   "id": "c9968126",
   "metadata": {},
   "outputs": [
    {
     "data": {
      "text/plain": [
       "True"
      ]
     },
     "execution_count": 210,
     "metadata": {},
     "output_type": "execute_result"
    }
   ],
   "source": [
    "\"test\" in \"testy\""
   ]
  },
  {
   "cell_type": "code",
   "execution_count": 212,
   "id": "1573d9d3",
   "metadata": {},
   "outputs": [
    {
     "data": {
      "text/plain": [
       "False"
      ]
     },
     "execution_count": 212,
     "metadata": {},
     "output_type": "execute_result"
    }
   ],
   "source": [
    "list(\"test\") in list(\"testy\")"
   ]
  },
  {
   "cell_type": "code",
   "execution_count": 228,
   "id": "fea34403",
   "metadata": {},
   "outputs": [],
   "source": [
    "l1 = [\"test\", \"testy\"]"
   ]
  },
  {
   "cell_type": "code",
   "execution_count": 229,
   "id": "29f27a28",
   "metadata": {},
   "outputs": [],
   "source": [
    "l2 = list(\"t\")"
   ]
  },
  {
   "cell_type": "code",
   "execution_count": 240,
   "id": "ac4a2912",
   "metadata": {},
   "outputs": [
    {
     "data": {
      "text/plain": [
       "'testy'"
      ]
     },
     "execution_count": 240,
     "metadata": {},
     "output_type": "execute_result"
    }
   ],
   "source": [
    "\"testy\""
   ]
  },
  {
   "cell_type": "code",
   "execution_count": 289,
   "id": "6155bb46",
   "metadata": {},
   "outputs": [],
   "source": [
    "def isPalindrome(my_string):\n",
    "    \n",
    "    if not my_string:\n",
    "        return False\n",
    "    \n",
    "    my_string = my_string.lower()\n",
    "    \n",
    "    punc = ',.\\?!-;:'\n",
    "    my_string = ''.join([c for c in my_string if c != \" \" and c not in punc])\n",
    "    \n",
    "    if not my_string:\n",
    "        return False\n",
    "    \n",
    "    return my_string[::-1] == my_string"
   ]
  },
  {
   "cell_type": "code",
   "execution_count": 290,
   "id": "04a1dc97",
   "metadata": {},
   "outputs": [
    {
     "data": {
      "text/plain": [
       "False"
      ]
     },
     "execution_count": 290,
     "metadata": {},
     "output_type": "execute_result"
    }
   ],
   "source": [
    "isPalindrome(\",\")"
   ]
  },
  {
   "cell_type": "code",
   "execution_count": 12,
   "id": "563dc1a8",
   "metadata": {},
   "outputs": [],
   "source": [
    "def biggest_area(height):\n",
    "    \n",
    "    if not height:\n",
    "        return 0\n",
    "    if len(height) == 1:\n",
    "        return numbers[0]\n",
    "    \n",
    "    largest = 0\n",
    "    for i in range(len(height)):\n",
    "        window = 1\n",
    "        while i + window < len(height):\n",
    "            # step 1: \"normalize height metric\" by getting min of current vs. inspect\n",
    "            h = min(height[i], height[i + window])\n",
    "            # step 2: calculate area - which is height * width where width = window size\n",
    "            area = h * window\n",
    "            # step 3: set this to largest if it's bigger!\n",
    "            largest = max(largest, area)\n",
    "            # step 4: keep the party going. move window over. \n",
    "            # print(f'{numbers[i]}, {numbers[i + window]}')\n",
    "            window += 1\n",
    "    \n",
    "    return largest\n",
    "        "
   ]
  },
  {
   "cell_type": "code",
   "execution_count": 15,
   "id": "bab75ab2",
   "metadata": {},
   "outputs": [
    {
     "data": {
      "text/plain": [
       "2"
      ]
     },
     "execution_count": 15,
     "metadata": {},
     "output_type": "execute_result"
    }
   ],
   "source": [
    "biggest_area([1,2,1])"
   ]
  },
  {
   "cell_type": "code",
   "execution_count": 1,
   "id": "4adbdda0",
   "metadata": {},
   "outputs": [],
   "source": [
    "my_list = [1,2,3,4,5]"
   ]
  },
  {
   "cell_type": "code",
   "execution_count": 2,
   "id": "49d55518",
   "metadata": {},
   "outputs": [],
   "source": [
    "def test_func(a_list):\n",
    "    \n",
    "    a_list = [num * 2 for num in a_list]\n",
    "    return a_list"
   ]
  },
  {
   "cell_type": "code",
   "execution_count": 4,
   "id": "2fbb8d8e",
   "metadata": {},
   "outputs": [
    {
     "data": {
      "text/plain": [
       "[2, 4, 6, 8, 10]"
      ]
     },
     "execution_count": 4,
     "metadata": {},
     "output_type": "execute_result"
    }
   ],
   "source": [
    "test_func(my_list)"
   ]
  },
  {
   "cell_type": "code",
   "execution_count": 5,
   "id": "0b43ef39",
   "metadata": {},
   "outputs": [
    {
     "data": {
      "text/plain": [
       "[1, 2, 3, 4, 5]"
      ]
     },
     "execution_count": 5,
     "metadata": {},
     "output_type": "execute_result"
    }
   ],
   "source": [
    "my_list # note how it has note actually been updated."
   ]
  },
  {
   "cell_type": "code",
   "execution_count": 9,
   "id": "bc1b2789",
   "metadata": {},
   "outputs": [],
   "source": [
    "def test_func_touching_elements(a_list):\n",
    "    a_list[:] = [num * 2 for num in a_list]\n",
    "    return a_list"
   ]
  },
  {
   "cell_type": "code",
   "execution_count": 10,
   "id": "ac68cd5d",
   "metadata": {},
   "outputs": [
    {
     "data": {
      "text/plain": [
       "[2, 4, 6, 8, 10]"
      ]
     },
     "execution_count": 10,
     "metadata": {},
     "output_type": "execute_result"
    }
   ],
   "source": [
    "test_func_touching_elements(my_list)"
   ]
  },
  {
   "cell_type": "code",
   "execution_count": 12,
   "id": "b9517f87",
   "metadata": {},
   "outputs": [
    {
     "data": {
      "text/plain": [
       "[2, 4, 6, 8, 10]"
      ]
     },
     "execution_count": 12,
     "metadata": {},
     "output_type": "execute_result"
    }
   ],
   "source": [
    "my_list # now it has been edited"
   ]
  },
  {
   "cell_type": "code",
   "execution_count": 38,
   "id": "8bc16ca4",
   "metadata": {},
   "outputs": [],
   "source": [
    "class Person:\n",
    "    \n",
    "    species = 'Human' # shared by all Person objects\n",
    "    \n",
    "    def __init__(self, name, age):\n",
    "        self.name = name\n",
    "        self.age = age\n",
    "    \n",
    "    def f(self):\n",
    "        return 'hello world'"
   ]
  },
  {
   "cell_type": "code",
   "execution_count": 39,
   "id": "96753711",
   "metadata": {},
   "outputs": [],
   "source": [
    "x = Person(\"timothy\", 12)"
   ]
  },
  {
   "cell_type": "code",
   "execution_count": 34,
   "id": "c71bc69a",
   "metadata": {},
   "outputs": [
    {
     "data": {
      "text/plain": [
       "<__main__.Person at 0x10ad37e80>"
      ]
     },
     "execution_count": 34,
     "metadata": {},
     "output_type": "execute_result"
    }
   ],
   "source": [
    "x"
   ]
  },
  {
   "cell_type": "code",
   "execution_count": 35,
   "id": "f752a41e",
   "metadata": {},
   "outputs": [
    {
     "data": {
      "text/plain": [
       "'hello world'"
      ]
     },
     "execution_count": 35,
     "metadata": {},
     "output_type": "execute_result"
    }
   ],
   "source": [
    "x.f()"
   ]
  },
  {
   "cell_type": "code",
   "execution_count": 40,
   "id": "4f031c13",
   "metadata": {},
   "outputs": [
    {
     "data": {
      "text/plain": [
       "'Human'"
      ]
     },
     "execution_count": 40,
     "metadata": {},
     "output_type": "execute_result"
    }
   ],
   "source": [
    "x.species"
   ]
  },
  {
   "cell_type": "code",
   "execution_count": 32,
   "id": "e5d1ae5d",
   "metadata": {},
   "outputs": [
    {
     "data": {
      "text/plain": [
       "'t'"
      ]
     },
     "execution_count": 32,
     "metadata": {},
     "output_type": "execute_result"
    }
   ],
   "source": [
    "test = \"timotimo\"\n",
    "\n",
    "test[4]"
   ]
  },
  {
   "cell_type": "code",
   "execution_count": 80,
   "id": "1c8c64e8",
   "metadata": {},
   "outputs": [],
   "source": [
    "def sub_validate(s1, s2):\n",
    "    reg = {'{': '}', '(': ')', '[': ']'}\n",
    "    rev = {v: k for k, v in reg.items()}\n",
    "    if not s1 or not s2:\n",
    "        return false\n",
    "    if s1 in reg:\n",
    "        return reg[s1] == s2\n",
    "    if s1 in rev:\n",
    "        return rev[s1] == s2"
   ]
  },
  {
   "cell_type": "code",
   "execution_count": 81,
   "id": "0458bb0b",
   "metadata": {},
   "outputs": [
    {
     "data": {
      "text/plain": [
       "True"
      ]
     },
     "execution_count": 81,
     "metadata": {},
     "output_type": "execute_result"
    }
   ],
   "source": [
    "sub_validate('(', ')')"
   ]
  },
  {
   "cell_type": "code",
   "execution_count": 94,
   "id": "b877b0a5",
   "metadata": {},
   "outputs": [],
   "source": [
    "def isvalid(s):\n",
    "    \n",
    "    ## push every char onto a stack then print out(just want to see)\n",
    "    d = deque()\n",
    "    ## if it doesn't have a match, put it on the stack?\n",
    "    ## it should only be on the stack once. \n",
    "    ## \n",
    "    for char in s:\n",
    "        if char not in d:\n",
    "            d.appendleft(char)\n",
    "        else:\n",
    "            \n",
    "    return d"
   ]
  },
  {
   "cell_type": "code",
   "execution_count": 95,
   "id": "eacb9f99",
   "metadata": {},
   "outputs": [
    {
     "data": {
      "text/plain": [
       "deque(['}', '{'])"
      ]
     },
     "execution_count": 95,
     "metadata": {},
     "output_type": "execute_result"
    }
   ],
   "source": [
    "isvalid(\"{}{}\")"
   ]
  },
  {
   "cell_type": "code",
   "execution_count": 2,
   "id": "c909c6b5",
   "metadata": {},
   "outputs": [],
   "source": [
    "l = [0, 1 ,2, 3 , 4, 5]"
   ]
  },
  {
   "cell_type": "code",
   "execution_count": 3,
   "id": "69dbe913",
   "metadata": {},
   "outputs": [
    {
     "data": {
      "text/plain": [
       "2"
      ]
     },
     "execution_count": 3,
     "metadata": {},
     "output_type": "execute_result"
    }
   ],
   "source": [
    "l[2]"
   ]
  },
  {
   "cell_type": "code",
   "execution_count": 4,
   "id": "6c787250",
   "metadata": {},
   "outputs": [
    {
     "ename": "AttributeError",
     "evalue": "'list' object has no attribute 'get'",
     "output_type": "error",
     "traceback": [
      "\u001b[0;31m---------------------------------------------------------------------------\u001b[0m",
      "\u001b[0;31mAttributeError\u001b[0m                            Traceback (most recent call last)",
      "\u001b[0;32m<ipython-input-4-72be8a7e7e29>\u001b[0m in \u001b[0;36m<module>\u001b[0;34m\u001b[0m\n\u001b[0;32m----> 1\u001b[0;31m \u001b[0ml\u001b[0m\u001b[0;34m.\u001b[0m\u001b[0mget\u001b[0m\u001b[0;34m(\u001b[0m\u001b[0;36m2\u001b[0m\u001b[0;34m)\u001b[0m\u001b[0;34m\u001b[0m\u001b[0;34m\u001b[0m\u001b[0m\n\u001b[0m",
      "\u001b[0;31mAttributeError\u001b[0m: 'list' object has no attribute 'get'"
     ]
    }
   ],
   "source": [
    "l.get(2)"
   ]
  },
  {
   "cell_type": "code",
   "execution_count": 5,
   "id": "d8d8781e",
   "metadata": {},
   "outputs": [
    {
     "data": {
      "text/plain": [
       "2"
      ]
     },
     "execution_count": 5,
     "metadata": {},
     "output_type": "execute_result"
    }
   ],
   "source": [
    "l.index(2)"
   ]
  },
  {
   "cell_type": "code",
   "execution_count": 6,
   "id": "ed4d1f3c",
   "metadata": {},
   "outputs": [],
   "source": [
    "l.remove(2)"
   ]
  },
  {
   "cell_type": "code",
   "execution_count": 7,
   "id": "41ae3a4b",
   "metadata": {},
   "outputs": [
    {
     "data": {
      "text/plain": [
       "[0, 1, 3, 4, 5]"
      ]
     },
     "execution_count": 7,
     "metadata": {},
     "output_type": "execute_result"
    }
   ],
   "source": [
    "l"
   ]
  },
  {
   "cell_type": "code",
   "execution_count": 8,
   "id": "ed75a915",
   "metadata": {},
   "outputs": [],
   "source": [
    "l.insert(2, \"tim\")"
   ]
  },
  {
   "cell_type": "code",
   "execution_count": 9,
   "id": "c79f7b31",
   "metadata": {},
   "outputs": [
    {
     "data": {
      "text/plain": [
       "[0, 1, 'tim', 3, 4, 5]"
      ]
     },
     "execution_count": 9,
     "metadata": {},
     "output_type": "execute_result"
    }
   ],
   "source": [
    "l"
   ]
  },
  {
   "cell_type": "code",
   "execution_count": 15,
   "id": "41259d20",
   "metadata": {},
   "outputs": [],
   "source": [
    "l = [0, None, None,None, None, None, None, None, 9] # should be 9"
   ]
  },
  {
   "cell_type": "code",
   "execution_count": 16,
   "id": "139b4a9d",
   "metadata": {},
   "outputs": [
    {
     "name": "stdout",
     "output_type": "stream",
     "text": [
      "7\n"
     ]
    }
   ],
   "source": [
    "current = 0\n",
    "highest = 0\n",
    "temp = 0\n",
    "counts=[[]]\n",
    "while current < len(l):\n",
    "    if l[current +1] == None:\n",
    "        temp +=1\n",
    "        highest = max(highest, temp)\n",
    "    else:\n",
    "        temp = 0\n",
    "    current +=1\n",
    "    if current == (len(l) - 1):\n",
    "        break\n",
    "\n",
    "print(highest)"
   ]
  },
  {
   "cell_type": "code",
   "execution_count": 14,
   "id": "9abd3f4a",
   "metadata": {},
   "outputs": [
    {
     "data": {
      "text/plain": [
       "3"
      ]
     },
     "execution_count": 14,
     "metadata": {},
     "output_type": "execute_result"
    }
   ],
   "source": [
    "l.index(4)"
   ]
  },
  {
   "cell_type": "markdown",
   "id": "2bd64952",
   "metadata": {},
   "source": [
    "- sort a dictionary by values\n",
    "- sort a list of strings by shortest words\n",
    "- reverse a string\n",
    "- remove chars from a string\n",
    "- remove punc from a sentence\n",
    "- all permutations of a list\n",
    "- combine two lists\n",
    "- iterate over dictionary\n",
    "    - \t(different ways)\n",
    "- breadth first\n",
    "- depth first\n",
    "- loop over list of lists\n",
    "    -\tnormal\n",
    "    - \tcomprehension\n",
    "- window loop (rectangle area)\n",
    "- review merge sorts"
   ]
  },
  {
   "cell_type": "code",
   "execution_count": 17,
   "id": "19b1afe0",
   "metadata": {},
   "outputs": [],
   "source": [
    "d = {\"Tim\": 2, \"John\": 7, \"Kevin\": 1}"
   ]
  },
  {
   "cell_type": "code",
   "execution_count": 19,
   "id": "2a996ce3",
   "metadata": {},
   "outputs": [],
   "source": [
    "import operator\n",
    "sorted_d = sorted(d.items(), key = operator.itemgetter(1), reverse = True)"
   ]
  },
  {
   "cell_type": "code",
   "execution_count": 20,
   "id": "e24f3acb",
   "metadata": {},
   "outputs": [
    {
     "data": {
      "text/plain": [
       "[('John', 7), ('Tim', 2), ('Kevin', 1)]"
      ]
     },
     "execution_count": 20,
     "metadata": {},
     "output_type": "execute_result"
    }
   ],
   "source": [
    "sorted_d"
   ]
  },
  {
   "cell_type": "code",
   "execution_count": 21,
   "id": "a5508916",
   "metadata": {},
   "outputs": [],
   "source": [
    "l = [\"tim\", \"john\", \"eggplant\", \"thanks\",\"hi\"]"
   ]
  },
  {
   "cell_type": "code",
   "execution_count": 23,
   "id": "81840ad6",
   "metadata": {},
   "outputs": [
    {
     "data": {
      "text/plain": [
       "['hi', 'tim', 'john', 'thanks', 'eggplant']"
      ]
     },
     "execution_count": 23,
     "metadata": {},
     "output_type": "execute_result"
    }
   ],
   "source": [
    "sorted(l, key = len) # apply function w/ no args"
   ]
  },
  {
   "cell_type": "code",
   "execution_count": 24,
   "id": "a502c851",
   "metadata": {},
   "outputs": [
    {
     "data": {
      "text/plain": [
       "['eggplant', 'hi', 'john', 'thanks', 'tim']"
      ]
     },
     "execution_count": 24,
     "metadata": {},
     "output_type": "execute_result"
    }
   ],
   "source": [
    "sorted(l) # no extra params, by default does alphabetical"
   ]
  },
  {
   "cell_type": "code",
   "execution_count": 31,
   "id": "2399a072",
   "metadata": {},
   "outputs": [
    {
     "name": "stdout",
     "output_type": "stream",
     "text": [
      "esuoh etihw eht\n"
     ]
    }
   ],
   "source": [
    "s = \"the white house\"\n",
    "\n",
    "s1 = \"\"\n",
    "for c in s:\n",
    "    s1 = c + s1\n",
    "\n",
    "print(s1)"
   ]
  },
  {
   "cell_type": "code",
   "execution_count": 32,
   "id": "b0c9c1f8",
   "metadata": {},
   "outputs": [],
   "source": [
    "s2 = s[::-1]"
   ]
  },
  {
   "cell_type": "code",
   "execution_count": 33,
   "id": "5df9a94b",
   "metadata": {},
   "outputs": [
    {
     "data": {
      "text/plain": [
       "'esuoh etihw eht'"
      ]
     },
     "execution_count": 33,
     "metadata": {},
     "output_type": "execute_result"
    }
   ],
   "source": [
    "s2"
   ]
  },
  {
   "cell_type": "code",
   "execution_count": 45,
   "id": "84ed1299",
   "metadata": {},
   "outputs": [],
   "source": [
    "sentence = \"The & only way & I'll **** go is to ... think.? About it? **&*\""
   ]
  },
  {
   "cell_type": "code",
   "execution_count": 46,
   "id": "0353b594",
   "metadata": {},
   "outputs": [],
   "source": [
    "sentence = sentence.replace(\"?\", \"\")"
   ]
  },
  {
   "cell_type": "code",
   "execution_count": 47,
   "id": "439bca43",
   "metadata": {},
   "outputs": [
    {
     "data": {
      "text/plain": [
       "\"The & only way & I'll **** go is to ... think. About it **&*\""
      ]
     },
     "execution_count": 47,
     "metadata": {},
     "output_type": "execute_result"
    }
   ],
   "source": [
    "sentence"
   ]
  },
  {
   "cell_type": "code",
   "execution_count": 48,
   "id": "af0f422c",
   "metadata": {},
   "outputs": [],
   "source": [
    "## okay, we removed a question mark, now get the other stuff out\n",
    "\n",
    "bad = \"&*.\"\n",
    "\n",
    "sentence = ''.join([c for c in sentence if c not in bad])"
   ]
  },
  {
   "cell_type": "code",
   "execution_count": 49,
   "id": "a7b18d30",
   "metadata": {},
   "outputs": [
    {
     "data": {
      "text/plain": [
       "\"The  only way  I'll  go is to  think About it \""
      ]
     },
     "execution_count": 49,
     "metadata": {},
     "output_type": "execute_result"
    }
   ],
   "source": [
    "sentence"
   ]
  },
  {
   "cell_type": "code",
   "execution_count": 65,
   "id": "dc2ab713",
   "metadata": {},
   "outputs": [],
   "source": [
    "import itertools\n",
    "\n",
    "perms = []\n",
    "# returns an iterable you have to iterate over\n",
    "for perm in itertools.permutations([1,2,3,4]):\n",
    "    perms.append(perm)"
   ]
  },
  {
   "cell_type": "code",
   "execution_count": 66,
   "id": "bf13ff09",
   "metadata": {},
   "outputs": [
    {
     "data": {
      "text/plain": [
       "[(1, 2, 3, 4),\n",
       " (1, 2, 4, 3),\n",
       " (1, 3, 2, 4),\n",
       " (1, 3, 4, 2),\n",
       " (1, 4, 2, 3),\n",
       " (1, 4, 3, 2),\n",
       " (2, 1, 3, 4),\n",
       " (2, 1, 4, 3),\n",
       " (2, 3, 1, 4),\n",
       " (2, 3, 4, 1),\n",
       " (2, 4, 1, 3),\n",
       " (2, 4, 3, 1),\n",
       " (3, 1, 2, 4),\n",
       " (3, 1, 4, 2),\n",
       " (3, 2, 1, 4),\n",
       " (3, 2, 4, 1),\n",
       " (3, 4, 1, 2),\n",
       " (3, 4, 2, 1),\n",
       " (4, 1, 2, 3),\n",
       " (4, 1, 3, 2),\n",
       " (4, 2, 1, 3),\n",
       " (4, 2, 3, 1),\n",
       " (4, 3, 1, 2),\n",
       " (4, 3, 2, 1)]"
      ]
     },
     "execution_count": 66,
     "metadata": {},
     "output_type": "execute_result"
    }
   ],
   "source": [
    "perms"
   ]
  },
  {
   "cell_type": "code",
   "execution_count": 76,
   "id": "8e6a47fd",
   "metadata": {},
   "outputs": [
    {
     "data": {
      "text/plain": [
       "{1, 2, 7}"
      ]
     },
     "execution_count": 76,
     "metadata": {},
     "output_type": "execute_result"
    }
   ],
   "source": [
    "{v for v in d.values()}"
   ]
  },
  {
   "cell_type": "code",
   "execution_count": 77,
   "id": "c5bb7c6e",
   "metadata": {},
   "outputs": [
    {
     "data": {
      "text/plain": [
       "2"
      ]
     },
     "execution_count": 77,
     "metadata": {},
     "output_type": "execute_result"
    }
   ],
   "source": [
    "d[\"Tim\"]"
   ]
  },
  {
   "cell_type": "code",
   "execution_count": 81,
   "id": "168d30ab",
   "metadata": {},
   "outputs": [
    {
     "data": {
      "text/plain": [
       "{2: 'Tim', 7: 'John', 1: 'Kevin'}"
      ]
     },
     "execution_count": 81,
     "metadata": {},
     "output_type": "execute_result"
    }
   ],
   "source": [
    "{v: k for k, v in d.items()} #note that we are actually declaring a dict here so the colon is necessary"
   ]
  },
  {
   "cell_type": "code",
   "execution_count": 82,
   "id": "7b36f26b",
   "metadata": {},
   "outputs": [
    {
     "name": "stdout",
     "output_type": "stream",
     "text": [
      "Tim, 2 is at this spot\n",
      "John, 7 is at this spot\n",
      "Kevin, 1 is at this spot\n"
     ]
    }
   ],
   "source": [
    "for k, v in d.items():\n",
    "    print(f'{k}, {v} is at this spot')"
   ]
  },
  {
   "cell_type": "code",
   "execution_count": 86,
   "id": "2fa5161f",
   "metadata": {},
   "outputs": [
    {
     "data": {
      "text/plain": [
       "\"\\nif root is None:\\n    print('none')\\nq = [root]\\n\\nwhile len(q) > 0:\\n    curr = q.pop(0)\\n    # you could add curr to list, or print, etc.\\n    if curr.left:\\n        q.append(curr.left)\\n    if curr.right:\\n        q.append(curr.right)\\n\""
      ]
     },
     "execution_count": 86,
     "metadata": {},
     "output_type": "execute_result"
    }
   ],
   "source": [
    "# breadth first\n",
    "'''\n",
    "if root is None:\n",
    "    print('none')\n",
    "q = [root]\n",
    "\n",
    "while len(q) > 0:\n",
    "    curr = q.pop(0)\n",
    "    # you could add curr to list, or print, etc.\n",
    "    if curr.left:\n",
    "        q.append(curr.left)\n",
    "    if curr.right:\n",
    "        q.append(curr.right)\n",
    "'''"
   ]
  },
  {
   "cell_type": "code",
   "execution_count": 87,
   "id": "362094a6",
   "metadata": {},
   "outputs": [],
   "source": [
    "# pre order -> Current L R\n",
    "# in order -> L Current R\n",
    "# post order -> L R Current\n"
   ]
  },
  {
   "cell_type": "code",
   "execution_count": 88,
   "id": "0d09c24c",
   "metadata": {},
   "outputs": [],
   "source": [
    "list_of_lists = [[1,2,3,4,5], [6,7,8,9,10], [11,12,13,14,15], [16,17,18,19,20]]"
   ]
  },
  {
   "cell_type": "code",
   "execution_count": 89,
   "id": "b1c04c80",
   "metadata": {},
   "outputs": [
    {
     "name": "stdout",
     "output_type": "stream",
     "text": [
      "[[1, 2, 3, 4, 5], [6, 7, 8, 9, 10], [11, 12, 13, 14, 15], [16, 17, 18, 19, 20]]\n"
     ]
    }
   ],
   "source": [
    "print(list_of_lists)"
   ]
  },
  {
   "cell_type": "code",
   "execution_count": 95,
   "id": "a3d3f971",
   "metadata": {},
   "outputs": [
    {
     "name": "stdout",
     "output_type": "stream",
     "text": [
      "1\n",
      "2\n",
      "3\n",
      "4\n",
      "5\n",
      "6\n",
      "7\n",
      "8\n",
      "9\n",
      "10\n",
      "11\n",
      "12\n",
      "13\n",
      "14\n",
      "15\n",
      "16\n",
      "17\n",
      "18\n",
      "19\n",
      "20\n"
     ]
    }
   ],
   "source": [
    "for inner_list in list_of_lists:\n",
    "    for val in inner_list:\n",
    "        print(val)"
   ]
  },
  {
   "cell_type": "code",
   "execution_count": 97,
   "id": "98f36d3f",
   "metadata": {},
   "outputs": [
    {
     "data": {
      "text/plain": [
       "[1, 2, 3, 4, 5, 6, 7, 8, 9, 10, 11, 12, 13, 14, 15, 16, 17, 18, 19, 20]"
      ]
     },
     "execution_count": 97,
     "metadata": {},
     "output_type": "execute_result"
    }
   ],
   "source": [
    "[val for inner_list in list_of_lists for val in inner_list] #weird outside in thing"
   ]
  },
  {
   "cell_type": "code",
   "execution_count": 98,
   "id": "18656558",
   "metadata": {},
   "outputs": [
    {
     "name": "stdout",
     "output_type": "stream",
     "text": [
      "1\n",
      "2\n",
      "6\n",
      "7\n",
      "11\n",
      "12\n",
      "16\n",
      "17\n"
     ]
    }
   ],
   "source": [
    "# only print the first two numbers in each inner list\n",
    "for inner_list in list_of_lists:\n",
    "    current = 0\n",
    "    for val in inner_list:\n",
    "        print(val)\n",
    "        current +=1\n",
    "        if current == 2:\n",
    "            current = 0\n",
    "            break"
   ]
  },
  {
   "cell_type": "code",
   "execution_count": 99,
   "id": "eaa49958",
   "metadata": {},
   "outputs": [
    {
     "data": {
      "text/plain": [
       "'\\n  largest = 0\\n  for i in range(len(height)):\\n      window = 1\\n      while i + window < len(height):\\n          # step 1: \"normalize height metric\" by getting min of current vs. inspect\\n          h = min(height[i], height[i + window])\\n          # step 2: calculate area - which is height * width where width = window size\\n          area = h * window\\n          # step 3: set this to largest if it\\'s bigger!\\n          largest = max(largest, area)\\n          # step 4: keep the party going. move window over. \\n          # print(f\\'{numbers[i]}, {numbers[i + window]}\\')\\n          window += 1\\n  \\n  return largest\\n  '"
      ]
     },
     "execution_count": 99,
     "metadata": {},
     "output_type": "execute_result"
    }
   ],
   "source": [
    "'''\n",
    "  largest = 0\n",
    "  for i in range(len(height)):\n",
    "      window = 1\n",
    "      while i + window < len(height):\n",
    "          # step 1: \"normalize height metric\" by getting min of current vs. inspect\n",
    "          h = min(height[i], height[i + window])\n",
    "          # step 2: calculate area - which is height * width where width = window size\n",
    "          area = h * window\n",
    "          # step 3: set this to largest if it's bigger!\n",
    "          largest = max(largest, area)\n",
    "          # step 4: keep the party going. move window over. \n",
    "          # print(f'{numbers[i]}, {numbers[i + window]}')\n",
    "          window += 1\n",
    "  \n",
    "  return largest\n",
    "  '''"
   ]
  },
  {
   "cell_type": "code",
   "execution_count": 100,
   "id": "76ff4db5",
   "metadata": {},
   "outputs": [],
   "source": [
    "my_list = [0, 1, 2, 3, 4, 5, 6, 7, 8, 9, 10]"
   ]
  },
  {
   "cell_type": "code",
   "execution_count": 101,
   "id": "7b78db1a",
   "metadata": {},
   "outputs": [],
   "source": [
    "my_list = range(11)"
   ]
  },
  {
   "cell_type": "code",
   "execution_count": 102,
   "id": "1c7235fd",
   "metadata": {},
   "outputs": [
    {
     "data": {
      "text/plain": [
       "range(0, 11)"
      ]
     },
     "execution_count": 102,
     "metadata": {},
     "output_type": "execute_result"
    }
   ],
   "source": [
    "my_list"
   ]
  },
  {
   "cell_type": "code",
   "execution_count": 104,
   "id": "42586735",
   "metadata": {},
   "outputs": [],
   "source": [
    "my_list = [0, 1, 2, 3, 4, 5, 6, 7, 8, 9, 10]"
   ]
  },
  {
   "cell_type": "code",
   "execution_count": 105,
   "id": "3deb04e6",
   "metadata": {},
   "outputs": [
    {
     "data": {
      "text/plain": [
       "[0, 1, 2, 3, 4, 5, 6, 7, 8, 9, 10]"
      ]
     },
     "execution_count": 105,
     "metadata": {},
     "output_type": "execute_result"
    }
   ],
   "source": [
    "my_list"
   ]
  },
  {
   "cell_type": "code",
   "execution_count": 108,
   "id": "5760d16f",
   "metadata": {},
   "outputs": [
    {
     "name": "stdout",
     "output_type": "stream",
     "text": [
      "Comparing anchor 0 to value 1\n",
      "Comparing anchor 0 to value 2\n",
      "Comparing anchor 0 to value 3\n",
      "Comparing anchor 0 to value 4\n",
      "Comparing anchor 0 to value 5\n",
      "Comparing anchor 0 to value 6\n",
      "Comparing anchor 0 to value 7\n",
      "Comparing anchor 0 to value 8\n",
      "Comparing anchor 0 to value 9\n",
      "Comparing anchor 0 to value 10\n",
      "Comparing anchor 1 to value 2\n",
      "Comparing anchor 1 to value 3\n",
      "Comparing anchor 1 to value 4\n",
      "Comparing anchor 1 to value 5\n",
      "Comparing anchor 1 to value 6\n",
      "Comparing anchor 1 to value 7\n",
      "Comparing anchor 1 to value 8\n",
      "Comparing anchor 1 to value 9\n",
      "Comparing anchor 1 to value 10\n",
      "Comparing anchor 2 to value 3\n",
      "Comparing anchor 2 to value 4\n",
      "Comparing anchor 2 to value 5\n",
      "Comparing anchor 2 to value 6\n",
      "Comparing anchor 2 to value 7\n",
      "Comparing anchor 2 to value 8\n",
      "Comparing anchor 2 to value 9\n",
      "Comparing anchor 2 to value 10\n",
      "Comparing anchor 3 to value 4\n",
      "Comparing anchor 3 to value 5\n",
      "Comparing anchor 3 to value 6\n",
      "Comparing anchor 3 to value 7\n",
      "Comparing anchor 3 to value 8\n",
      "Comparing anchor 3 to value 9\n",
      "Comparing anchor 3 to value 10\n",
      "Comparing anchor 4 to value 5\n",
      "Comparing anchor 4 to value 6\n",
      "Comparing anchor 4 to value 7\n",
      "Comparing anchor 4 to value 8\n",
      "Comparing anchor 4 to value 9\n",
      "Comparing anchor 4 to value 10\n",
      "Comparing anchor 5 to value 6\n",
      "Comparing anchor 5 to value 7\n",
      "Comparing anchor 5 to value 8\n",
      "Comparing anchor 5 to value 9\n",
      "Comparing anchor 5 to value 10\n",
      "Comparing anchor 6 to value 7\n",
      "Comparing anchor 6 to value 8\n",
      "Comparing anchor 6 to value 9\n",
      "Comparing anchor 6 to value 10\n",
      "Comparing anchor 7 to value 8\n",
      "Comparing anchor 7 to value 9\n",
      "Comparing anchor 7 to value 10\n",
      "Comparing anchor 8 to value 9\n",
      "Comparing anchor 8 to value 10\n",
      "Comparing anchor 9 to value 10\n"
     ]
    }
   ],
   "source": [
    "# window/anchor work.\n",
    "for i in my_list:\n",
    "    window = 1\n",
    "    while i + window < len(my_list):\n",
    "        print(f'Comparing anchor {i} to value {i+window}')\n",
    "        window +=1"
   ]
  },
  {
   "cell_type": "code",
   "execution_count": 109,
   "id": "f886843d",
   "metadata": {},
   "outputs": [],
   "source": [
    "test = {1: (1, 2), 2: (1, 5)}"
   ]
  },
  {
   "cell_type": "code",
   "execution_count": 110,
   "id": "bd91dc85",
   "metadata": {},
   "outputs": [
    {
     "data": {
      "text/plain": [
       "[3, 6]"
      ]
     },
     "execution_count": 110,
     "metadata": {},
     "output_type": "execute_result"
    }
   ],
   "source": [
    "[sum(v) for v in test.values()]"
   ]
  },
  {
   "cell_type": "code",
   "execution_count": null,
   "id": "96132e08",
   "metadata": {},
   "outputs": [],
   "source": []
  }
 ],
 "metadata": {
  "kernelspec": {
   "display_name": "Python 3",
   "language": "python",
   "name": "python3"
  },
  "language_info": {
   "codemirror_mode": {
    "name": "ipython",
    "version": 3
   },
   "file_extension": ".py",
   "mimetype": "text/x-python",
   "name": "python",
   "nbconvert_exporter": "python",
   "pygments_lexer": "ipython3",
   "version": "3.8.8"
  }
 },
 "nbformat": 4,
 "nbformat_minor": 5
}
